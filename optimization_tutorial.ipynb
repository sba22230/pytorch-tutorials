{
  "cells": [
    {
      "cell_type": "code",
      "execution_count": 1,
      "metadata": {
        "collapsed": false
      },
      "outputs": [],
      "source": [
        "%matplotlib inline"
      ]
    },
    {
      "cell_type": "markdown",
      "metadata": {},
      "source": [
        "\n",
        "[Learn the Basics](intro.html) ||\n",
        "[Quickstart](quickstart_tutorial.html) ||\n",
        "[Tensors](tensorqs_tutorial.html) ||\n",
        "[Datasets & DataLoaders](data_tutorial.html) ||\n",
        "[Transforms](transforms_tutorial.html) ||\n",
        "[Build Model](buildmodel_tutorial.html) ||\n",
        "[Autograd](autogradqs_tutorial.html) ||\n",
        "**Optimization** ||\n",
        "[Save & Load Model](saveloadrun_tutorial.html)\n",
        "\n",
        "# Optimizing Model Parameters\n",
        "\n",
        "Now that we have a model and data it's time to train, validate and test our model by optimizing its parameters on\n",
        "our data. Training a model is an iterative process; in each iteration the model makes a guess about the output, calculates\n",
        "the error in its guess (*loss*), collects the derivatives of the error with respect to its parameters (as we saw in\n",
        "the [previous section](autograd_tutorial.html)), and **optimizes** these parameters using gradient descent. For a more\n",
        "detailed walkthrough of this process, check out this video on [backpropagation from 3Blue1Brown](https://www.youtube.com/watch?v=tIeHLnjs5U8)_.\n",
        "\n",
        "## Prerequisite Code\n",
        "We load the code from the previous sections on [Datasets & DataLoaders](data_tutorial.html)\n",
        "and [Build Model](buildmodel_tutorial.html).\n"
      ]
    },
    {
      "cell_type": "code",
      "execution_count": 12,
      "metadata": {
        "collapsed": false
      },
      "outputs": [
        {
          "name": "stdout",
          "output_type": "stream",
          "text": [
            "Using cuda device\n",
            "NeuralNetwork(\n",
            "  (flatten): Flatten(start_dim=1, end_dim=-1)\n",
            "  (linear_relu_stack): Sequential(\n",
            "    (0): Linear(in_features=784, out_features=512, bias=True)\n",
            "    (1): ReLU()\n",
            "    (2): Linear(in_features=512, out_features=512, bias=True)\n",
            "    (3): ReLU()\n",
            "    (4): Linear(in_features=512, out_features=10, bias=True)\n",
            "  )\n",
            ")\n"
          ]
        }
      ],
      "source": [
        "import torch\n",
        "from torch import nn\n",
        "from torch.utils.data import DataLoader\n",
        "from torchvision import datasets\n",
        "from torchvision.transforms import ToTensor\n",
        "\n",
        "device = \"cuda\" if torch.cuda.is_available() else \"mps\" if torch.backends.mps.is_available() else \"cpu\"\n",
        "print(f\"Using {device} device\")\n",
        "\n",
        "training_data = datasets.FashionMNIST(\n",
        "    root=\"data\",\n",
        "    train=True,\n",
        "    download=True,\n",
        "    transform=ToTensor()\n",
        ")\n",
        "\n",
        "test_data = datasets.FashionMNIST(\n",
        "    root=\"data\",\n",
        "    train=False,\n",
        "    download=True,\n",
        "    transform=ToTensor()\n",
        ")\n",
        "\n",
        "train_dataloader = DataLoader(training_data, batch_size=64)\n",
        "test_dataloader = DataLoader(test_data, batch_size=64)\n",
        "\n",
        "class NeuralNetwork(nn.Module):\n",
        "    def __init__(self):\n",
        "        super(NeuralNetwork, self).__init__()\n",
        "        self.flatten = nn.Flatten()\n",
        "        self.linear_relu_stack = nn.Sequential(\n",
        "            nn.Linear(28*28, 512),\n",
        "            nn.ReLU(),\n",
        "            nn.Linear(512, 512),\n",
        "            nn.ReLU(),\n",
        "            nn.Linear(512, 10),\n",
        "        )\n",
        "\n",
        "    def forward(self, x):\n",
        "        x = self.flatten(x)\n",
        "        logits = self.linear_relu_stack(x)\n",
        "        return logits\n",
        "\n",
        "model = NeuralNetwork().to(device) # Move tensors to the configured device CPU/GPU\n",
        "print(model)"
      ]
    },
    {
      "cell_type": "markdown",
      "metadata": {},
      "source": [
        "## Hyperparameters\n",
        "\n",
        "Hyperparameters are adjustable parameters that let you control the model optimization process.\n",
        "Different hyperparameter values can impact model training and convergence rates\n",
        "([read more](https://pytorch.org/tutorials/beginner/hyperparameter_tuning_tutorial.html)_ about hyperparameter tuning)\n",
        "\n",
        "We define the following hyperparameters for training:\n",
        " - **Number of Epochs** - the number times to iterate over the dataset\n",
        " - **Batch Size** - the number of data samples propagated through the network before the parameters are updated\n",
        " - **Learning Rate** - how much to update models parameters at each batch/epoch. Smaller values yield slow learning speed, while large values may result in unpredictable behavior during training.\n",
        "\n",
        "\n"
      ]
    },
    {
      "cell_type": "code",
      "execution_count": 3,
      "metadata": {
        "collapsed": false
      },
      "outputs": [],
      "source": [
        "learning_rate = 1e-3\n",
        "batch_size = 64\n",
        "epochs = 5"
      ]
    },
    {
      "cell_type": "markdown",
      "metadata": {},
      "source": [
        "## Optimization Loop\n",
        "\n",
        "Once we set our hyperparameters, we can then train and optimize our model with an optimization loop. Each\n",
        "iteration of the optimization loop is called an **epoch**.\n",
        "\n",
        "Each epoch consists of two main parts:\n",
        " - **The Train Loop** - iterate over the training dataset and try to converge to optimal parameters.\n",
        " - **The Validation/Test Loop** - iterate over the test dataset to check if model performance is improving.\n",
        "\n",
        "Let's briefly familiarize ourselves with some of the concepts used in the training loop. Jump ahead to\n",
        "see the `full-impl-label` of the optimization loop.\n",
        "\n",
        "### Loss Function\n",
        "\n",
        "When presented with some training data, our untrained network is likely not to give the correct\n",
        "answer. **Loss function** measures the degree of dissimilarity of obtained result to the target value,\n",
        "and it is the loss function that we want to minimize during training. To calculate the loss we make a\n",
        "prediction using the inputs of our given data sample and compare it against the true data label value.\n",
        "\n",
        "Common loss functions include [nn.MSELoss](https://pytorch.org/docs/stable/generated/torch.nn.MSELoss.html#torch.nn.MSELoss) (Mean Square Error) for regression tasks, and\n",
        "[nn.NLLLoss](https://pytorch.org/docs/stable/generated/torch.nn.NLLLoss.html#torch.nn.NLLLoss) (Negative Log Likelihood) for classification.\n",
        "[nn.CrossEntropyLoss](https://pytorch.org/docs/stable/generated/torch.nn.CrossEntropyLoss.html#torch.nn.CrossEntropyLoss) combines ``nn.LogSoftmax`` and ``nn.NLLLoss``.\n",
        "\n",
        "We pass our model's output logits to ``nn.CrossEntropyLoss``, which will normalize the logits and compute the prediction error.\n",
        "\n"
      ]
    },
    {
      "cell_type": "code",
      "execution_count": 13,
      "metadata": {
        "collapsed": false
      },
      "outputs": [
        {
          "data": {
            "text/plain": [
              "CrossEntropyLoss()"
            ]
          },
          "execution_count": 13,
          "metadata": {},
          "output_type": "execute_result"
        }
      ],
      "source": [
        "# Initialize the loss function\n",
        "loss_fn = nn.CrossEntropyLoss()\n",
        "loss_fn.to(device)"
      ]
    },
    {
      "cell_type": "markdown",
      "metadata": {},
      "source": [
        "### Optimizer\n",
        "\n",
        "Optimization is the process of adjusting model parameters to reduce model error in each training step. **Optimization algorithms** define how this process is performed (in this example we use Stochastic Gradient Descent).\n",
        "All optimization logic is encapsulated in  the ``optimizer`` object. Here, we use the SGD optimizer; additionally, there are many [different optimizers](https://pytorch.org/docs/stable/optim.html)\n",
        "available in PyTorch such as ADAM and RMSProp, that work better for different kinds of models and data.\n",
        "\n",
        "We initialize the optimizer by registering the model's parameters that need to be trained, and passing in the learning rate hyperparameter.\n",
        "\n"
      ]
    },
    {
      "cell_type": "code",
      "execution_count": 15,
      "metadata": {
        "collapsed": false
      },
      "outputs": [],
      "source": [
        "optimizer = torch.optim.SGD(model.parameters(), lr=learning_rate)\n"
      ]
    },
    {
      "cell_type": "markdown",
      "metadata": {},
      "source": [
        "Inside the training loop, optimization happens in three steps:\n",
        " * Call ``optimizer.zero_grad()`` to reset the gradients of model parameters. Gradients by default add up; to prevent double-counting, we explicitly zero them at each iteration.\n",
        " * Backpropagate the prediction loss with a call to ``loss.backward()``. PyTorch deposits the gradients of the loss w.r.t. each parameter.\n",
        " * Once we have our gradients, we call ``optimizer.step()`` to adjust the parameters by the gradients collected in the backward pass.\n",
        "\n"
      ]
    },
    {
      "cell_type": "markdown",
      "metadata": {},
      "source": [
        "\n",
        "## Full Implementation\n",
        "We define ``train_loop`` that loops over our optimization code, and ``test_loop`` that\n",
        "evaluates the model's performance against our test data.\n",
        "\n"
      ]
    },
    {
      "cell_type": "code",
      "execution_count": 16,
      "metadata": {
        "collapsed": false
      },
      "outputs": [],
      "source": [
        "def train_loop(dataloader, model, loss_fn, optimizer):\n",
        "    size = len(dataloader.dataset)\n",
        "    \n",
        "    for batch, (X, y) in enumerate(dataloader):\n",
        "        X, y = X.to(device), y.to(device) # Move tensors to the configured device CPU/GPU\n",
        "        # Compute prediction and loss\n",
        "        pred = model(X)\n",
        "        loss = loss_fn(pred, y)\n",
        "\n",
        "        # Backpropagation\n",
        "        optimizer.zero_grad()\n",
        "        loss.backward()\n",
        "        optimizer.step()\n",
        "\n",
        "        if batch % 100 == 0:\n",
        "            loss, current = loss.item(), batch * len(X)\n",
        "            print(f\"loss: {loss:>7f}  [{current:>5d}/{size:>5d}]\")\n",
        "\n",
        "\n",
        "def test_loop(dataloader, model, loss_fn):\n",
        "    size = len(dataloader.dataset)\n",
        "    num_batches = len(dataloader)\n",
        "    test_loss, correct = 0, 0\n",
        "\n",
        "    with torch.no_grad():\n",
        "        for X, y in dataloader:\n",
        "            X, y = X.to(device), y.to(device) # Move tensors to the configured device CPU/GPU\n",
        "            pred = model(X)\n",
        "            test_loss += loss_fn(pred, y).item()\n",
        "            correct += (pred.argmax(1) == y).type(torch.float).sum().item()\n",
        "\n",
        "    test_loss /= num_batches\n",
        "    correct /= size\n",
        "    print(f\"Test Error: \\n Accuracy: {(100*correct):>0.1f}%, Avg loss: {test_loss:>8f} \\n\")"
      ]
    },
    {
      "cell_type": "markdown",
      "metadata": {},
      "source": [
        "We initialize the loss function and optimizer, and pass it to ``train_loop`` and ``test_loop``.\n",
        "Feel free to increase the number of epochs to track the model's improving performance.\n",
        "\n"
      ]
    },
    {
      "cell_type": "code",
      "execution_count": 17,
      "metadata": {
        "collapsed": false
      },
      "outputs": [
        {
          "name": "stdout",
          "output_type": "stream",
          "text": [
            "Epoch 1\n",
            "-------------------------------\n",
            "loss: 2.306437  [    0/60000]\n",
            "loss: 2.287173  [ 6400/60000]\n",
            "loss: 2.263568  [12800/60000]\n",
            "loss: 2.250998  [19200/60000]\n",
            "loss: 2.235702  [25600/60000]\n",
            "loss: 2.211577  [32000/60000]\n",
            "loss: 2.215666  [38400/60000]\n",
            "loss: 2.184647  [44800/60000]\n",
            "loss: 2.176787  [51200/60000]\n",
            "loss: 2.133548  [57600/60000]\n",
            "Test Error: \n",
            " Accuracy: 46.0%, Avg loss: 2.135136 \n",
            "\n",
            "Epoch 2\n",
            "-------------------------------\n",
            "loss: 2.148957  [    0/60000]\n",
            "loss: 2.133520  [ 6400/60000]\n",
            "loss: 2.069499  [12800/60000]\n",
            "loss: 2.084078  [19200/60000]\n",
            "loss: 2.030204  [25600/60000]\n",
            "loss: 1.971221  [32000/60000]\n",
            "loss: 2.002441  [38400/60000]\n",
            "loss: 1.921157  [44800/60000]\n",
            "loss: 1.922945  [51200/60000]\n",
            "loss: 1.840878  [57600/60000]\n",
            "Test Error: \n",
            " Accuracy: 59.7%, Avg loss: 1.845009 \n",
            "\n",
            "Epoch 3\n",
            "-------------------------------\n",
            "loss: 1.878789  [    0/60000]\n",
            "loss: 1.844326  [ 6400/60000]\n",
            "loss: 1.721502  [12800/60000]\n",
            "loss: 1.767156  [19200/60000]\n",
            "loss: 1.661586  [25600/60000]\n",
            "loss: 1.615457  [32000/60000]\n",
            "loss: 1.639135  [38400/60000]\n",
            "loss: 1.545688  [44800/60000]\n",
            "loss: 1.566700  [51200/60000]\n",
            "loss: 1.457775  [57600/60000]\n",
            "Test Error: \n",
            " Accuracy: 63.2%, Avg loss: 1.483458 \n",
            "\n",
            "Epoch 4\n",
            "-------------------------------\n",
            "loss: 1.546482  [    0/60000]\n",
            "loss: 1.515858  [ 6400/60000]\n",
            "loss: 1.365393  [12800/60000]\n",
            "loss: 1.439120  [19200/60000]\n",
            "loss: 1.328527  [25600/60000]\n",
            "loss: 1.325358  [32000/60000]\n",
            "loss: 1.338256  [38400/60000]\n",
            "loss: 1.269720  [44800/60000]\n",
            "loss: 1.298376  [51200/60000]\n",
            "loss: 1.199393  [57600/60000]\n",
            "Test Error: \n",
            " Accuracy: 63.8%, Avg loss: 1.230649 \n",
            "\n",
            "Epoch 5\n",
            "-------------------------------\n",
            "loss: 1.300003  [    0/60000]\n",
            "loss: 1.290288  [ 6400/60000]\n",
            "loss: 1.123730  [12800/60000]\n",
            "loss: 1.231511  [19200/60000]\n",
            "loss: 1.110348  [25600/60000]\n",
            "loss: 1.136114  [32000/60000]\n",
            "loss: 1.157983  [38400/60000]\n",
            "loss: 1.098281  [44800/60000]\n",
            "loss: 1.130469  [51200/60000]\n",
            "loss: 1.050766  [57600/60000]\n",
            "Test Error: \n",
            " Accuracy: 65.0%, Avg loss: 1.074553 \n",
            "\n",
            "Epoch 6\n",
            "-------------------------------\n",
            "loss: 1.135350  [    0/60000]\n",
            "loss: 1.149725  [ 6400/60000]\n",
            "loss: 0.963957  [12800/60000]\n",
            "loss: 1.102926  [19200/60000]\n",
            "loss: 0.976917  [25600/60000]\n",
            "loss: 1.009992  [32000/60000]\n",
            "loss: 1.048502  [38400/60000]\n",
            "loss: 0.990073  [44800/60000]\n",
            "loss: 1.020154  [51200/60000]\n",
            "loss: 0.958240  [57600/60000]\n",
            "Test Error: \n",
            " Accuracy: 66.2%, Avg loss: 0.973693 \n",
            "\n",
            "Epoch 7\n",
            "-------------------------------\n",
            "loss: 1.020869  [    0/60000]\n",
            "loss: 1.058689  [ 6400/60000]\n",
            "loss: 0.853595  [12800/60000]\n",
            "loss: 1.016455  [19200/60000]\n",
            "loss: 0.891748  [25600/60000]\n",
            "loss: 0.920918  [32000/60000]\n",
            "loss: 0.977114  [38400/60000]\n",
            "loss: 0.919312  [44800/60000]\n",
            "loss: 0.942884  [51200/60000]\n",
            "loss: 0.895074  [57600/60000]\n",
            "Test Error: \n",
            " Accuracy: 67.5%, Avg loss: 0.903906 \n",
            "\n",
            "Epoch 8\n",
            "-------------------------------\n",
            "loss: 0.936171  [    0/60000]\n",
            "loss: 0.994288  [ 6400/60000]\n",
            "loss: 0.773188  [12800/60000]\n",
            "loss: 0.953651  [19200/60000]\n",
            "loss: 0.833801  [25600/60000]\n",
            "loss: 0.855053  [32000/60000]\n",
            "loss: 0.926540  [38400/60000]\n",
            "loss: 0.871283  [44800/60000]\n",
            "loss: 0.886128  [51200/60000]\n",
            "loss: 0.848165  [57600/60000]\n",
            "Test Error: \n",
            " Accuracy: 68.6%, Avg loss: 0.852689 \n",
            "\n",
            "Epoch 9\n",
            "-------------------------------\n",
            "loss: 0.870186  [    0/60000]\n",
            "loss: 0.944525  [ 6400/60000]\n",
            "loss: 0.712236  [12800/60000]\n",
            "loss: 0.905612  [19200/60000]\n",
            "loss: 0.791817  [25600/60000]\n",
            "loss: 0.805062  [32000/60000]\n",
            "loss: 0.887780  [38400/60000]\n",
            "loss: 0.837411  [44800/60000]\n",
            "loss: 0.843212  [51200/60000]\n",
            "loss: 0.811268  [57600/60000]\n",
            "Test Error: \n",
            " Accuracy: 70.0%, Avg loss: 0.813220 \n",
            "\n",
            "Epoch 10\n",
            "-------------------------------\n",
            "loss: 0.816953  [    0/60000]\n",
            "loss: 0.903455  [ 6400/60000]\n",
            "loss: 0.664569  [12800/60000]\n",
            "loss: 0.867649  [19200/60000]\n",
            "loss: 0.759620  [25600/60000]\n",
            "loss: 0.766291  [32000/60000]\n",
            "loss: 0.856082  [38400/60000]\n",
            "loss: 0.812298  [44800/60000]\n",
            "loss: 0.809912  [51200/60000]\n",
            "loss: 0.780991  [57600/60000]\n",
            "Test Error: \n",
            " Accuracy: 71.3%, Avg loss: 0.781465 \n",
            "\n",
            "Done!\n"
          ]
        }
      ],
      "source": [
        "loss_fn = nn.CrossEntropyLoss()\n",
        "optimizer = torch.optim.SGD(model.parameters(), lr=learning_rate)\n",
        "\n",
        "epochs = 10\n",
        "for t in range(epochs):\n",
        "    print(f\"Epoch {t+1}\\n-------------------------------\")\n",
        "    train_loop(train_dataloader, model, loss_fn, optimizer)\n",
        "    test_loop(test_dataloader, model, loss_fn)\n",
        "print(\"Done!\")"
      ]
    },
    {
      "cell_type": "markdown",
      "metadata": {},
      "source": [
        "## Further Reading\n",
        "- [Loss Functions](https://pytorch.org/docs/stable/nn.html#loss-functions)\n",
        "- [torch.optim](https://pytorch.org/docs/stable/optim.html)\n",
        "- [Warmstart Training a Model](https://pytorch.org/tutorials/recipes/recipes/warmstarting_model_using_parameters_from_a_different_model.html)\n",
        "\n",
        "\n"
      ]
    }
  ],
  "metadata": {
    "kernelspec": {
      "display_name": "tf",
      "language": "python",
      "name": "python3"
    },
    "language_info": {
      "codemirror_mode": {
        "name": "ipython",
        "version": 3
      },
      "file_extension": ".py",
      "mimetype": "text/x-python",
      "name": "python",
      "nbconvert_exporter": "python",
      "pygments_lexer": "ipython3",
      "version": "3.9.9"
    },
    "vscode": {
      "interpreter": {
        "hash": "2aeadfc84047e14b94ce08761ed3b997c414979cac675e8b1a1a90f40c27476b"
      }
    }
  },
  "nbformat": 4,
  "nbformat_minor": 0
}
