{
 "cells": [
  {
   "cell_type": "code",
   "execution_count": 1,
   "metadata": {},
   "outputs": [],
   "source": [
    "# Prolog - Auto Generated #\n",
    "import os, uuid, matplotlib\n",
    "matplotlib.use('Agg')\n",
    "import matplotlib.pyplot\n",
    "import pandas\n",
    "\n",
    "import sys\n",
    "sys.tracebacklimit = 0\n",
    "\n",
    "os.chdir(u'C:/Users/stehayes/PythonEditorWrapper_ec480774-31a1-4737-84f6-a20198dd11b4')\n",
    "dataset = pandas.read_csv('input_df_5d177492-4910-4b91-825c-a2f13b826f20.csv')\n",
    "\n",
    "matplotlib.pyplot.figure(figsize=(5.55555555555556,4.16666666666667), dpi=72)\n",
    "matplotlib.pyplot.show = lambda args=None,kw=None: matplotlib.pyplot.savefig(str(uuid.uuid1()))\n",
    "# Original Script. Please update your script content here and once completed copy below section back to the original editing window #\n",
    "# The following code to create a dataframe and remove duplicated rows is always executed and acts as a preamble for your script: \n",
    "\n",
    "# dataset = pandas.DataFrame(jobId, tenantName, subtenantName, CompletedTimestamp, targetCulture, rawWordCount)\n",
    "# dataset = dataset.drop_duplicates()\n",
    "\n",
    "# Paste or type your script code here:\n",
    "matplotlib.pyplot.figure(figsize=(15.55555555555556,14.16666666666667), dpi=216)\n",
    "\n",
    "import numpy as np\n",
    "dataset = dataset.sample(10)\n",
    "colors = matplotlib.pyplot.cm.BuPu(np.linspace(0, 0.5, len(dataset.values)))\n",
    "# Plot the table\n",
    "#plot data\n",
    "fig, ax = matplotlib.pyplot.subplots()\n",
    "ax.set_title('Sampled JobID Data')\n",
    "matplotlib.pyplot.table(cellText=dataset.values,\n",
    "          colLabels=dataset.columns,\n",
    "          rowColours=colors,\n",
    "          loc='center')\n",
    "matplotlib.pyplot.axis('off')\n",
    "matplotlib.pyplot.show()\n",
    "\n",
    "\n",
    "# Epilog - Auto Generated #\n",
    "os.chdir(u'C:/Users/stehayes/PythonEditorWrapper_ec480774-31a1-4737-84f6-a20198dd11b4')\n"
   ]
  },
  {
   "cell_type": "code",
   "execution_count": 5,
   "metadata": {},
   "outputs": [],
   "source": [
    "from pandas.plotting import table\n",
    "\n",
    "matplotlib.pyplot.figure(figsize=(12, 8))\n",
    "table(ax, dataset)\n",
    "matplotlib.pyplot.show()"
   ]
  },
  {
   "cell_type": "code",
   "execution_count": null,
   "metadata": {},
   "outputs": [],
   "source": []
  }
 ],
 "metadata": {
  "kernelspec": {
   "display_name": "Python 3",
   "language": "python",
   "name": "python3"
  },
  "language_info": {
   "codemirror_mode": {
    "name": "ipython",
    "version": 3
   },
   "file_extension": ".py",
   "mimetype": "text/x-python",
   "name": "python",
   "nbconvert_exporter": "python",
   "pygments_lexer": "ipython3",
   "version": "3.9.13"
  },
  "orig_nbformat": 4,
  "vscode": {
   "interpreter": {
    "hash": "c347c8f9a7ef94e4c9e03b4513be7835ed18f45b99a2a817fb579f408b867b16"
   }
  }
 },
 "nbformat": 4,
 "nbformat_minor": 2
}
