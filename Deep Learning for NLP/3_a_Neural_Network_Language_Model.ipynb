{
  "cells": [
    {
      "cell_type": "code",
      "execution_count": 1,
      "metadata": {
        "id": "hQyABfVXMyhA"
      },
      "outputs": [],
      "source": [
        "import torch\n",
        "import torch.nn as nn\n",
        "import torch.optim as optim"
      ]
    },
    {
      "cell_type": "code",
      "execution_count": 2,
      "metadata": {
        "id": "ti-UORytM39x"
      },
      "outputs": [],
      "source": [
        "raw_sentence = [\"i like dog\", \"i love coffee\", \"i hate milk\"]"
      ]
    },
    {
      "cell_type": "code",
      "execution_count": 3,
      "metadata": {
        "id": "XKWOlucvNSwA"
      },
      "outputs": [],
      "source": [
        "def make_batch(sentences):\n",
        "    input_batch = []\n",
        "    target_batch = []\n",
        "\n",
        "    for sen in sentences:\n",
        "        word = sen.split()\n",
        "        input = [word2id[n] for n in word[:-1]]\n",
        "        target = word2id[word[-1]]\n",
        "\n",
        "        input_batch.append(input)\n",
        "        target_batch.append(target)\n",
        "\n",
        "    return input_batch, target_batch"
      ]
    },
    {
      "cell_type": "code",
      "execution_count": 4,
      "metadata": {
        "colab": {
          "base_uri": "https://localhost:8080/"
        },
        "id": "Bzw6RXrIN3tv",
        "outputId": "d61b32c0-5297-4c7b-8df2-fb6e52768fc6"
      },
      "outputs": [
        {
          "data": {
            "text/plain": [
              "7"
            ]
          },
          "execution_count": 4,
          "metadata": {},
          "output_type": "execute_result"
        }
      ],
      "source": [
        "word_list = \" \".join(raw_sentence).split()\n",
        "word_list = list(set(word_list))\n",
        "word2id = {w: i for i, w in enumerate(word_list)}\n",
        "id2word = {i: w for i, w in enumerate(word_list)}\n",
        "n_class = len(word2id)  # number of Vocabulary\n",
        "\n",
        "n_class"
      ]
    },
    {
      "cell_type": "code",
      "execution_count": 5,
      "metadata": {
        "id": "bxwcGfO8eI6G"
      },
      "outputs": [],
      "source": [
        "class NNLM(nn.Module):\n",
        "    def __init__(self):\n",
        "        super(NNLM, self).__init__()\n",
        "        self.embeddings = nn.Embedding(n_class, m) #embedding layer or look up table\n",
        "\n",
        "        self.hidden1 = nn.Linear(n_step * m, n_hidden, bias=False)\n",
        "        self.ones = nn.Parameter(torch.ones(n_hidden))\n",
        "\n",
        "        self.hidden2 = nn.Linear(n_hidden, n_class, bias=False)\n",
        "        self.hidden3 = nn.Linear(n_step * m, n_class, bias=False) #final layer\n",
        "\n",
        "        self.bias = nn.Parameter(torch.ones(n_class))\n",
        "\n",
        "    def forward(self, X):\n",
        "        word_embeds = self.embeddings(X) # embeddings\n",
        "        X = word_embeds.view(-1, n_step * m) # first layer\n",
        "        tanh = torch.tanh(self.ones + self.hidden1(X)) # tanh layer\n",
        "        output = self.bias + self.hidden3(X) + self.hidden2(tanh) # summing up all the layers with bias\n",
        "        return word_embeds, output\n",
        "\n"
      ]
    },
    {
      "cell_type": "code",
      "execution_count": 6,
      "metadata": {
        "id": "WfNbEp8JgqJT"
      },
      "outputs": [],
      "source": [
        "n_step = 2\n",
        "n_hidden = 2\n",
        "m = 2"
      ]
    },
    {
      "cell_type": "code",
      "execution_count": 7,
      "metadata": {
        "id": "79XZSmPCgyW0"
      },
      "outputs": [],
      "source": [
        "model = NNLM()\n",
        "\n",
        "criterion = nn.CrossEntropyLoss()\n",
        "optimizer = optim.Adam(model.parameters(), lr=0.001)"
      ]
    },
    {
      "cell_type": "code",
      "execution_count": 8,
      "metadata": {
        "id": "8iMncCFKgzcW"
      },
      "outputs": [],
      "source": [
        "input_batch, target_batch = make_batch(raw_sentence)\n",
        "input_batch = torch.LongTensor(input_batch)\n",
        "target_batch = torch.LongTensor(target_batch)"
      ]
    },
    {
      "cell_type": "code",
      "execution_count": 10,
      "metadata": {
        "colab": {
          "base_uri": "https://localhost:8080/",
          "height": 307
        },
        "id": "SklQsUK5g2YP",
        "outputId": "d67c0fbb-fe15-4d76-e6f7-11afa708809b"
      },
      "outputs": [
        {
          "name": "stdout",
          "output_type": "stream",
          "text": [
            "Epoch: 1000 cost = 0.000532\n",
            "Epoch: 2000 cost = 0.000293\n",
            "Epoch: 3000 cost = 0.000164\n",
            "Epoch: 4000 cost = 0.000093\n",
            "Epoch: 5000 cost = 0.000053\n"
          ]
        }
      ],
      "source": [
        "for epoch in range(5000):\n",
        "    optimizer.zero_grad()\n",
        "    embeddings, output = model(input_batch)\n",
        "\n",
        "    # output : [batch_size, n_class], target_batch : [batch_size]\n",
        "    loss = criterion(output, target_batch)\n",
        "    if (epoch + 1) % 1000 == 0:\n",
        "        print('Epoch:', '%04d' % (epoch + 1), 'cost =', '{:.6f}'.format(loss))\n",
        "\n",
        "    loss.backward()\n",
        "    optimizer.step()\n",
        "\n"
      ]
    },
    {
      "cell_type": "code",
      "execution_count": 11,
      "metadata": {},
      "outputs": [
        {
          "ename": "AttributeError",
          "evalue": "'tuple' object has no attribute 'data'",
          "output_type": "error",
          "traceback": [
            "\u001b[1;31m---------------------------------------------------------------------------\u001b[0m",
            "\u001b[1;31mAttributeError\u001b[0m                            Traceback (most recent call last)",
            "\u001b[1;32mn:\\GitHubSource\\pytorch-tutorials\\Deep Learning for NLP\\3_a_Neural_Network_Language_Model.ipynb Cell 10\u001b[0m line \u001b[0;36m2\n\u001b[0;32m      <a href='vscode-notebook-cell:/n%3A/GitHubSource/pytorch-tutorials/Deep%20Learning%20for%20NLP/3_a_Neural_Network_Language_Model.ipynb#X14sZmlsZQ%3D%3D?line=0'>1</a>\u001b[0m \u001b[39m# Predict\u001b[39;00m\n\u001b[1;32m----> <a href='vscode-notebook-cell:/n%3A/GitHubSource/pytorch-tutorials/Deep%20Learning%20for%20NLP/3_a_Neural_Network_Language_Model.ipynb#X14sZmlsZQ%3D%3D?line=1'>2</a>\u001b[0m predict \u001b[39m=\u001b[39m model(input_batch)\u001b[39m.\u001b[39;49mdata\u001b[39m.\u001b[39mmax(\u001b[39m1\u001b[39m, keepdim\u001b[39m=\u001b[39m\u001b[39mTrue\u001b[39;00m)[\u001b[39m1\u001b[39m]\n",
            "\u001b[1;31mAttributeError\u001b[0m: 'tuple' object has no attribute 'data'"
          ]
        }
      ],
      "source": [
        "# Predict\n",
        "predict = model(input_batch).data.max(1, keepdim=True)[1]\n",
        "\n"
      ]
    },
    {
      "cell_type": "code",
      "execution_count": 12,
      "metadata": {},
      "outputs": [
        {
          "ename": "NameError",
          "evalue": "name 'predict' is not defined",
          "output_type": "error",
          "traceback": [
            "\u001b[1;31m---------------------------------------------------------------------------\u001b[0m",
            "\u001b[1;31mNameError\u001b[0m                                 Traceback (most recent call last)",
            "\u001b[1;32mn:\\GitHubSource\\pytorch-tutorials\\Deep Learning for NLP\\3_a_Neural_Network_Language_Model.ipynb Cell 11\u001b[0m line \u001b[0;36m2\n\u001b[0;32m      <a href='vscode-notebook-cell:/n%3A/GitHubSource/pytorch-tutorials/Deep%20Learning%20for%20NLP/3_a_Neural_Network_Language_Model.ipynb#X15sZmlsZQ%3D%3D?line=0'>1</a>\u001b[0m \u001b[39m# Test\u001b[39;00m\n\u001b[1;32m----> <a href='vscode-notebook-cell:/n%3A/GitHubSource/pytorch-tutorials/Deep%20Learning%20for%20NLP/3_a_Neural_Network_Language_Model.ipynb#X15sZmlsZQ%3D%3D?line=1'>2</a>\u001b[0m \u001b[39mprint\u001b[39m([sen\u001b[39m.\u001b[39msplit()[:\u001b[39m2\u001b[39m] \u001b[39mfor\u001b[39;00m sen \u001b[39min\u001b[39;00m raw_sentence], \u001b[39m'\u001b[39m\u001b[39m->\u001b[39m\u001b[39m'\u001b[39m, [id2word[n\u001b[39m.\u001b[39mitem()] \u001b[39mfor\u001b[39;00m n \u001b[39min\u001b[39;00m predict\u001b[39m.\u001b[39msqueeze()])\n",
            "\u001b[1;31mNameError\u001b[0m: name 'predict' is not defined"
          ]
        }
      ],
      "source": [
        "# Test\n",
        "print([sen.split()[:2] for sen in raw_sentence], '->', [id2word[n.item()] for n in predict.squeeze()])"
      ]
    },
    {
      "cell_type": "code",
      "execution_count": 13,
      "metadata": {
        "colab": {
          "base_uri": "https://localhost:8080/"
        },
        "id": "K2hO4eXTg8Dv",
        "outputId": "ad796849-4a94-4f55-ea79-831e6fb619ea"
      },
      "outputs": [
        {
          "data": {
            "text/plain": [
              "tensor([[[-2.7784,  0.2981],\n",
              "         [-2.5415,  1.8039]],\n",
              "\n",
              "        [[-2.7784,  0.2981],\n",
              "         [ 1.8503,  1.1788]],\n",
              "\n",
              "        [[-2.7784,  0.2981],\n",
              "         [-0.7446, -2.3872]]], grad_fn=<EmbeddingBackward0>)"
            ]
          },
          "execution_count": 13,
          "metadata": {},
          "output_type": "execute_result"
        }
      ],
      "source": [
        "embeddings"
      ]
    },
    {
      "cell_type": "code",
      "execution_count": null,
      "metadata": {
        "id": "xnIujUBgYEae"
      },
      "outputs": [],
      "source": []
    }
  ],
  "metadata": {
    "colab": {
      "provenance": []
    },
    "kernelspec": {
      "display_name": "Python 3",
      "name": "python3"
    },
    "language_info": {
      "codemirror_mode": {
        "name": "ipython",
        "version": 3
      },
      "file_extension": ".py",
      "mimetype": "text/x-python",
      "name": "python",
      "nbconvert_exporter": "python",
      "pygments_lexer": "ipython3",
      "version": "3.11.5"
    }
  },
  "nbformat": 4,
  "nbformat_minor": 0
}
